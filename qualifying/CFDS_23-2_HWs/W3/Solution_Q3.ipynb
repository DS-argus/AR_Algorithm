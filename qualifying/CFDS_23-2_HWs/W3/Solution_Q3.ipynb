{
 "cells": [
  {
   "cell_type": "markdown",
   "metadata": {
    "id": "sJ0RqbLOoUJK"
   },
   "source": [
    "# Assignment 3"
   ]
  },
  {
   "cell_type": "markdown",
   "metadata": {
    "id": "TlwDdnlpoXi8"
   },
   "source": [
    "# Assignment 3.3 Binary Search Tree"
   ]
  },
  {
   "cell_type": "code",
   "execution_count": 1,
   "metadata": {
    "id": "tdBljsDmoWg2"
   },
   "outputs": [],
   "source": [
    "###### Do not modify this code block. ######\n",
    "\n",
    "class Node():\n",
    "    def __init__(self, x):\n",
    "        self.val = x\n",
    "        self.left = None\n",
    "        self.right = None\n",
    "\n",
    "class BST():\n",
    "    def __init__(self, num_list):\n",
    "        self.root = None\n",
    "        self.__buildBST(num_list)\n",
    "\n",
    "    def __buildBST(self, num_list):\n",
    "\n",
    "        # Build binary search tree by inserting values from num_list one by one in order starting from the front.\n",
    "        # There are no duplicate values in num_list.\n",
    "\n",
    "        if not num_list:\n",
    "            return\n",
    "        self.root = Node(num_list.pop(0))\n",
    "\n",
    "        for num in num_list:\n",
    "            curNode = self.root\n",
    "            while curNode:\n",
    "                if num < curNode.val:\n",
    "                    if not curNode.left:\n",
    "                        curNode.left = Node(num)\n",
    "                        break\n",
    "                    curNode = curNode.left\n",
    "                elif num > curNode.val:\n",
    "                    if not curNode.right:\n",
    "                        curNode.right = Node(num)\n",
    "                        break\n",
    "                    curNode = curNode.right\n",
    "                else:\n",
    "                    print(\"This node already exists\")\n",
    "                    break\n",
    "\n",
    "###### Do not modify this code block. ######"
   ]
  },
  {
   "cell_type": "code",
   "execution_count": 2,
   "metadata": {
    "id": "CEtokdJHzRnw"
   },
   "outputs": [],
   "source": [
    "def branchingPoint(tree, targetVal1, targetVal2):\n",
    "\n",
    "    # Given a binary search tree and two target values which are in the tree,\n",
    "    # return the value of the branching point, which is, the root node of the smallest subtree among subtrees which contain both of those values.\n",
    "    # Don't care about empty tree or invalid target values, such as the value not in the tree.\n",
    "\n",
    "    ####### Your Code #######\n",
    "\n",
    "    curNode = tree.root\n",
    "\n",
    "    while (curNode.val < targetVal1) == (curNode.val < targetVal2):\n",
    "        if (curNode.val == targetVal1) or (curNode.val == targetVal2):\n",
    "            return curNode.val\n",
    "        if curNode.val > targetVal1:\n",
    "            curNode = curNode.left\n",
    "        else:\n",
    "            curNode = curNode.right\n",
    "\n",
    "    return curNode.val"
   ]
  },
  {
   "cell_type": "code",
   "execution_count": 3,
   "metadata": {
    "colab": {
     "base_uri": "https://localhost:8080/"
    },
    "id": "1q88F2blvE3X",
    "outputId": "fa7ef479-c2a7-4533-8774-fe5bca1f8d9e"
   },
   "outputs": [
    {
     "name": "stdout",
     "output_type": "stream",
     "text": [
      "Input 1:  4\n",
      "Input 2:  6\n",
      "Input 3:  4\n",
      "Input 4:  6\n"
     ]
    }
   ],
   "source": [
    "# Given Example 1\n",
    "tree1 = BST([4, 6, 9, 5, 7, 3, 8, 2])\n",
    "\n",
    "# Input 1\n",
    "print(\"Input 1: \", branchingPoint(tree1, 3, 9))\n",
    "# Input 2\n",
    "print(\"Input 2: \", branchingPoint(tree1, 7, 5))\n",
    "# Input 3\n",
    "print(\"Input 3: \", branchingPoint(tree1, 2, 4))\n",
    "# Input 4\n",
    "print(\"Input 4: \", branchingPoint(tree1, 6, 6))"
   ]
  },
  {
   "cell_type": "code",
   "execution_count": 4,
   "metadata": {
    "colab": {
     "base_uri": "https://localhost:8080/"
    },
    "id": "EBEpu7LrIuOT",
    "outputId": "2b311af3-8739-4f0d-da42-ad2bb28f2125"
   },
   "outputs": [
    {
     "name": "stdout",
     "output_type": "stream",
     "text": [
      "Input 1:  11\n",
      "Input 2:  7\n",
      "Input 3:  15\n",
      "Input 4:  5\n"
     ]
    }
   ],
   "source": [
    "# Given Example 2\n",
    "tree2 = BST([11, 15, 13, 7, 17, 20, 18, 5, 6, 8, 10, 2, 1, 12, 4, 19, 3, 9, 14, 16])\n",
    "\n",
    "# Input 1\n",
    "print(\"Input 1: \", branchingPoint(tree2, 10, 17))\n",
    "# Input 2\n",
    "print(\"Input 2: \", branchingPoint(tree2, 9, 4))\n",
    "# Input 3\n",
    "print(\"Input 3: \", branchingPoint(tree2, 15, 19))\n",
    "# Input 4\n",
    "print(\"Input 4: \", branchingPoint(tree2, 5, 5))"
   ]
  },
  {
   "cell_type": "code",
   "execution_count": 5,
   "metadata": {
    "colab": {
     "base_uri": "https://localhost:8080/"
    },
    "id": "KL0L1rWjMqy3",
    "outputId": "fdd4293a-34a5-4675-aad5-50a324fede1e"
   },
   "outputs": [
    {
     "name": "stdout",
     "output_type": "stream",
     "text": [
      "Input 1:  10\n",
      "Input 2:  10\n",
      "Input 3:  15\n",
      "Input 4:  10\n"
     ]
    }
   ],
   "source": [
    "# Given Example 3\n",
    "tree3 = BST([10, 7, 15, 26, 48, 3, 50, 1])\n",
    "\n",
    "# Input 1\n",
    "print(\"Input 1: \", branchingPoint(tree3, 7, 50))\n",
    "# Input 2\n",
    "print(\"Input 2: \", branchingPoint(tree3, 26, 1))\n",
    "# Input 3\n",
    "print(\"Input 3: \", branchingPoint(tree3, 48, 15))\n",
    "# Input 4\n",
    "print(\"Input 4: \", branchingPoint(tree3, 10, 10))"
   ]
  },
  {
   "cell_type": "code",
   "execution_count": 6,
   "metadata": {
    "id": "VlFIYCCN48bg"
   },
   "outputs": [],
   "source": [
    "def numberOfDescendents(tree, targetVal):\n",
    "\n",
    "    # Given the binary search tree which includes some consecutive integers as node values and single target value which is in the tree,\n",
    "    # return the number of descendent nodes of the target node.\n",
    "    # Doesn't include the target node itself as a descendent node.\n",
    "    # Don't care about empty tree or invalid targetVal, such as the value not in the tree.\n",
    "\n",
    "    ####### Your Code #######\n",
    "\n",
    "    curNode = tree.root\n",
    "    while (curNode) and (curNode.val != targetVal):\n",
    "        if curNode.val > targetVal:\n",
    "            curNode = curNode.left\n",
    "        else:\n",
    "            curNode = curNode.right\n",
    "\n",
    "    if not curNode:\n",
    "        print(\"Target value does not exist.\")\n",
    "        return\n",
    "\n",
    "    leftNode = curNode\n",
    "    rightNode = curNode\n",
    "\n",
    "    while leftNode.left:\n",
    "        leftNode = leftNode.left\n",
    "    leftMostVal = leftNode.val\n",
    "\n",
    "    while rightNode.right:\n",
    "        rightNode = rightNode.right\n",
    "    rightMostVal = rightNode.val\n",
    "\n",
    "    return rightMostVal - leftMostVal"
   ]
  },
  {
   "cell_type": "code",
   "execution_count": 7,
   "metadata": {
    "colab": {
     "base_uri": "https://localhost:8080/"
    },
    "id": "XcFspD5n5RlX",
    "outputId": "bc3d512a-2d6d-4719-d484-0a1876e299ab"
   },
   "outputs": [
    {
     "name": "stdout",
     "output_type": "stream",
     "text": [
      "Input target node value:  6 -> # of descendants:  4\n",
      "Input target node value:  7 -> # of descendants:  1\n"
     ]
    }
   ],
   "source": [
    "# Given Example 1\n",
    "tree1 = BST([4, 6, 9, 5, 7, 3, 8, 2])\n",
    "\n",
    "target1, target2 = 6, 7\n",
    "print(\"Input target node value: \", target1, \"-> # of descendants: \", numberOfDescendents(tree1, target1))\n",
    "print(\"Input target node value: \", target2, \"-> # of descendants: \", numberOfDescendents(tree1, target2))"
   ]
  },
  {
   "cell_type": "code",
   "execution_count": 8,
   "metadata": {
    "colab": {
     "base_uri": "https://localhost:8080/"
    },
    "id": "epEt4oFw51zZ",
    "outputId": "1dfb259d-a037-4e19-b28e-a561bcf8ca1d"
   },
   "outputs": [
    {
     "name": "stdout",
     "output_type": "stream",
     "text": [
      "Input target node value:  1 -> # of descendants:  0\n",
      "Input target node value:  15 -> # of descendants:  8\n"
     ]
    }
   ],
   "source": [
    "# Given Example 2\n",
    "tree2 = BST([11, 15, 13, 7, 17, 20, 18, 5, 6, 8, 10, 2, 1, 12, 4, 19, 3, 9, 14, 16])\n",
    "\n",
    "target1, target2 = 1, 15\n",
    "print(\"Input target node value: \", target1, \"-> # of descendants: \", numberOfDescendents(tree2, target1))\n",
    "print(\"Input target node value: \", target2, \"-> # of descendants: \", numberOfDescendents(tree2, target2))"
   ]
  },
  {
   "cell_type": "code",
   "execution_count": 9,
   "metadata": {
    "colab": {
     "base_uri": "https://localhost:8080/"
    },
    "id": "zgoE7tz7LOfB",
    "outputId": "d27d89d9-bbb9-4f83-b240-89934254be3f"
   },
   "outputs": [
    {
     "name": "stdout",
     "output_type": "stream",
     "text": [
      "Input target node value:  1 -> # of descendants:  8\n",
      "Input target node value:  9 -> # of descendants:  0\n"
     ]
    }
   ],
   "source": [
    "# Given Example 3\n",
    "tree3 = BST([1, 2, 3, 4, 5, 6, 7, 8, 9])\n",
    "\n",
    "target1, target2 = 1, 9\n",
    "print(\"Input target node value: \", target1, \"-> # of descendants: \", numberOfDescendents(tree3, target1))\n",
    "print(\"Input target node value: \", target2, \"-> # of descendants: \", numberOfDescendents(tree3, target2))"
   ]
  },
  {
   "cell_type": "markdown",
   "metadata": {
    "id": "Msy5IJRvmMny"
   },
   "source": [
    "# Test Cases for Grading\n",
    "1 point for each print."
   ]
  },
  {
   "cell_type": "code",
   "execution_count": 10,
   "metadata": {
    "colab": {
     "base_uri": "https://localhost:8080/"
    },
    "id": "6gg06-BNmMMd",
    "outputId": "23beb959-cbe8-418e-d404-7ac03f6b19ff"
   },
   "outputs": [
    {
     "name": "stdout",
     "output_type": "stream",
     "text": [
      "Input 1:  77\n",
      "Input 2:  34\n",
      "Input 3:  3\n",
      "Input 4:  32\n",
      "Input 5:  21\n"
     ]
    }
   ],
   "source": [
    "tree1 = BST([21, 34, 9, 91, 33, 46, 96, 77, 50, 3, 60, 17, 11, 78, 58, 70, 47, 29, 65, 27, 20, 82, 59, 64, 86,\n",
    "             55, 4, 40, 87, 52, 76, 14, 12, 48, 57, 1, 24, 22, 25, 28, 72, 30, 26, 79, 88, 23, 92, 51, 99, 32,\n",
    "             90, 66, 98, 35, 41, 75, 69, 68, 89, 6, 95, 0, 49, 15, 38, 73, 43, 10, 83, 18, 74, 37, 94, 67, 2,\n",
    "             8, 44, 97, 80, 36, 93, 54, 13, 19, 85, 62, 39, 7, 56, 63, 45, 42, 31, 71, 84, 5, 16, 81, 53, 61])\n",
    "\n",
    "# Input 1\n",
    "print(\"Input 1: \", branchingPoint(tree1, 88, 49))\n",
    "# Input 2\n",
    "print(\"Input 2: \", branchingPoint(tree1, 78, 23))\n",
    "# Input 3\n",
    "print(\"Input 3: \", branchingPoint(tree1, 2, 4))\n",
    "# Input 4\n",
    "print(\"Input 4: \", branchingPoint(tree1, 32, 32))\n",
    "# Input 5\n",
    "print(\"Input 5: \", branchingPoint(tree1, 0, 99))"
   ]
  },
  {
   "cell_type": "code",
   "execution_count": 11,
   "metadata": {
    "colab": {
     "base_uri": "https://localhost:8080/"
    },
    "id": "Ha_o-b5Vnfuz",
    "outputId": "91492a54-4b45-4402-de94-9caf805cc001"
   },
   "outputs": [
    {
     "name": "stdout",
     "output_type": "stream",
     "text": [
      "Input 1:  73\n",
      "Input 2:  65\n",
      "Input 3:  62\n",
      "Input 4:  60\n",
      "Input 5:  73\n"
     ]
    }
   ],
   "source": [
    "tree2 = BST([62, 60, 57, 73, 55, 69, 68, 70, 65, 63, 76, 54, 58, 61, 53,\n",
    "             77, 51, 71, 66, 59, 64, 74, 67, 72, 79, 56, 78, 52, 50, 75])\n",
    "\n",
    "# Input 1\n",
    "print(\"Input 1: \", branchingPoint(tree2, 66, 77))\n",
    "# Input 2\n",
    "print(\"Input 2: \", branchingPoint(tree2, 65, 65))\n",
    "# Input 3\n",
    "print(\"Input 3: \", branchingPoint(tree2, 79, 50))\n",
    "# Input 4\n",
    "print(\"Input 4: \", branchingPoint(tree2, 56, 60))\n",
    "# Input 5\n",
    "print(\"Input 5: \", branchingPoint(tree2, 75, 63))"
   ]
  },
  {
   "cell_type": "code",
   "execution_count": 12,
   "metadata": {
    "colab": {
     "base_uri": "https://localhost:8080/"
    },
    "id": "Fv9OU4dho5bR",
    "outputId": "373299e4-90e3-4b2a-9e50-fbc467048325"
   },
   "outputs": [
    {
     "name": "stdout",
     "output_type": "stream",
     "text": [
      "Input 1:  2\n",
      "Input 2:  12\n",
      "Input 3:  55\n",
      "Input 4:  1\n",
      "Input 5:  0\n"
     ]
    }
   ],
   "source": [
    "tree1 = BST([21, 34, 9, 91, 33, 46, 96, 77, 50, 3, 60, 17, 11, 78, 58, 70, 47, 29, 65, 27, 20, 82, 59, 64, 86,\n",
    "             55, 4, 40, 87, 52, 76, 14, 12, 48, 57, 1, 24, 22, 25, 28, 72, 30, 26, 79, 88, 23, 92, 51, 99, 32,\n",
    "             90, 66, 98, 35, 41, 75, 69, 68, 89, 6, 95, 0, 49, 15, 38, 73, 43, 10, 83, 18, 74, 37, 94, 67, 2,\n",
    "             8, 44, 97, 80, 36, 93, 54, 13, 19, 85, 62, 39, 7, 56, 63, 45, 42, 31, 71, 84, 5, 16, 81, 53, 61])\n",
    "\n",
    "print(\"Input 1: \", numberOfDescendents(tree1, 88))\n",
    "# Input 2\n",
    "print(\"Input 2: \", numberOfDescendents(tree1, 78))\n",
    "# Input 3\n",
    "print(\"Input 3: \", numberOfDescendents(tree1, 46))\n",
    "# Input 4\n",
    "print(\"Input 4: \", numberOfDescendents(tree1, 32))\n",
    "# Input 5\n",
    "print(\"Input 5: \", numberOfDescendents(tree1, 0))"
   ]
  },
  {
   "cell_type": "code",
   "execution_count": 13,
   "metadata": {
    "colab": {
     "base_uri": "https://localhost:8080/"
    },
    "id": "bot0BJHLpPJm",
    "outputId": "5bfd453f-9c8f-4f48-a9c2-a49931fb77a8"
   },
   "outputs": [
    {
     "name": "stdout",
     "output_type": "stream",
     "text": [
      "Input 1:  3\n",
      "Input 2:  0\n",
      "Input 3:  2\n",
      "Input 4:  0\n",
      "Input 5:  1\n"
     ]
    }
   ],
   "source": [
    "tree2 = BST([62, 60, 57, 73, 55, 69, 68, 70, 65, 63, 76, 54, 58, 61, 53,\n",
    "             77, 51, 71, 66, 59, 64, 74, 67, 72, 79, 56, 78, 52, 50, 75])\n",
    "\n",
    "print(\"Input 1: \", numberOfDescendents(tree2, 53))\n",
    "# Input 2\n",
    "print(\"Input 2: \", numberOfDescendents(tree2, 78))\n",
    "# Input 3\n",
    "print(\"Input 3: \", numberOfDescendents(tree2, 70))\n",
    "# Input 4\n",
    "print(\"Input 4: \", numberOfDescendents(tree2, 50))\n",
    "# Input 5\n",
    "print(\"Input 5: \", numberOfDescendents(tree2, 66))"
   ]
  }
 ],
 "metadata": {
  "colab": {
   "provenance": []
  },
  "kernelspec": {
   "display_name": "Python 3 (ipykernel)",
   "language": "python",
   "name": "python3"
  },
  "language_info": {
   "codemirror_mode": {
    "name": "ipython",
    "version": 3
   },
   "file_extension": ".py",
   "mimetype": "text/x-python",
   "name": "python",
   "nbconvert_exporter": "python",
   "pygments_lexer": "ipython3",
   "version": "3.10.9"
  }
 },
 "nbformat": 4,
 "nbformat_minor": 1
}
