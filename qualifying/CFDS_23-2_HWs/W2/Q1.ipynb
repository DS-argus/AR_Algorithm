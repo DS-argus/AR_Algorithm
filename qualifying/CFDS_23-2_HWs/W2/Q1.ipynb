{
 "cells": [
  {
   "cell_type": "markdown",
   "id": "57fe4db5-622a-4a66-8b4a-ce0e5aef972d",
   "metadata": {},
   "source": [
    "## Q1"
   ]
  },
  {
   "cell_type": "code",
   "execution_count": 3,
   "id": "5ecb2298",
   "metadata": {
    "id": "5ecb2298"
   },
   "outputs": [],
   "source": [
    "def findLength(candles: list, n: int) -> int:\n",
    "    #####################################\n",
    "    # write your own code\n",
    "    largest = max(candles)\n",
    "    for l in range(1, largest):\n",
    "        removed = sum([max(candle - l, 0) for candle in candles])\n",
    "        if removed == n:\n",
    "            return l\n",
    "    return -1\n",
    "    #####################################"
   ]
  },
  {
   "cell_type": "markdown",
   "id": "3ybqIgHySR6h",
   "metadata": {
    "id": "3ybqIgHySR6h"
   },
   "source": [
    "## Test Case 1"
   ]
  },
  {
   "cell_type": "code",
   "execution_count": 4,
   "id": "b0e300e0",
   "metadata": {
    "colab": {
     "base_uri": "https://localhost:8080/"
    },
    "executionInfo": {
     "elapsed": 14,
     "status": "ok",
     "timestamp": 1696570667543,
     "user": {
      "displayName": "­한예규 / 학생 / 데이터사이언스학과",
      "userId": "05941801331185193821"
     },
     "user_tz": -540
    },
    "id": "b0e300e0",
    "outputId": "2cda1842-464a-4266-9ea0-5db77ed6dc2f"
   },
   "outputs": [
    {
     "name": "stdout",
     "output_type": "stream",
     "text": [
      "15\n"
     ]
    }
   ],
   "source": [
    "#Check whether your function works well\n",
    "candleList = [20, 15, 10, 7]\n",
    "print(findLength(candleList, 5))"
   ]
  },
  {
   "cell_type": "markdown",
   "id": "TyY0IzCCSgDM",
   "metadata": {
    "id": "TyY0IzCCSgDM"
   },
   "source": [
    "## Test Case 2"
   ]
  },
  {
   "cell_type": "code",
   "execution_count": 5,
   "id": "yoWvBM-rSftv",
   "metadata": {
    "colab": {
     "base_uri": "https://localhost:8080/"
    },
    "executionInfo": {
     "elapsed": 11,
     "status": "ok",
     "timestamp": 1696570667543,
     "user": {
      "displayName": "­한예규 / 학생 / 데이터사이언스학과",
      "userId": "05941801331185193821"
     },
     "user_tz": -540
    },
    "id": "yoWvBM-rSftv",
    "outputId": "0cb01522-26b2-4d41-a20e-59fd6d15b43d"
   },
   "outputs": [
    {
     "name": "stdout",
     "output_type": "stream",
     "text": [
      "14\n"
     ]
    }
   ],
   "source": [
    "#Check whether your function works well\n",
    "candleList = [7, 16, 32, 5, 20]\n",
    "print(findLength(candleList, 26))"
   ]
  },
  {
   "cell_type": "markdown",
   "id": "-ibQlbiGSjw8",
   "metadata": {
    "id": "-ibQlbiGSjw8"
   },
   "source": [
    "## Test Case 3"
   ]
  },
  {
   "cell_type": "code",
   "execution_count": 6,
   "id": "0gc6G1wMSoNi",
   "metadata": {
    "colab": {
     "base_uri": "https://localhost:8080/"
    },
    "executionInfo": {
     "elapsed": 9,
     "status": "ok",
     "timestamp": 1696570667544,
     "user": {
      "displayName": "­한예규 / 학생 / 데이터사이언스학과",
      "userId": "05941801331185193821"
     },
     "user_tz": -540
    },
    "id": "0gc6G1wMSoNi",
    "outputId": "3f927d0f-b181-4247-ccd7-b48cf02da2bf"
   },
   "outputs": [
    {
     "name": "stdout",
     "output_type": "stream",
     "text": [
      "-1\n"
     ]
    }
   ],
   "source": [
    "#Check whether your function works well\n",
    "candleList = [25, 17, 56]\n",
    "print(findLength(candleList, 36))"
   ]
  }
 ],
 "metadata": {
  "colab": {
   "provenance": []
  },
  "kernelspec": {
   "display_name": "Python 3 (ipykernel)",
   "language": "python",
   "name": "python3"
  },
  "language_info": {
   "codemirror_mode": {
    "name": "ipython",
    "version": 3
   },
   "file_extension": ".py",
   "mimetype": "text/x-python",
   "name": "python",
   "nbconvert_exporter": "python",
   "pygments_lexer": "ipython3",
   "version": "3.11.1"
  }
 },
 "nbformat": 4,
 "nbformat_minor": 5
}
