{
 "cells": [
  {
   "cell_type": "markdown",
   "id": "54792c41-9a57-44bb-9440-d5223a6cfc6c",
   "metadata": {},
   "source": [
    "## Q2"
   ]
  },
  {
   "cell_type": "code",
   "execution_count": 14,
   "id": "072a8dd4-a058-4af3-ad5b-aacf9be889bf",
   "metadata": {},
   "outputs": [],
   "source": [
    "def t_conquer(x,y,N):\n",
    "    global white, red\n",
    "\n",
    "    cnt = 0\n",
    "    for i in range(N):\n",
    "        for j in range(N):\n",
    "            cnt += territory[x+i][y+j]\n",
    "    \n",
    "    if cnt == 0:\n",
    "        white += 1\n",
    "    elif cnt == N*N:\n",
    "        red += 1\n",
    "    else:\n",
    "        t_conquer(x,y,N//2)\n",
    "        t_conquer(x+N//2,y,N//2)\n",
    "        t_conquer(x,y+N//2,N//2)\n",
    "        t_conquer(x+N//2,y+N//2,N//2)"
   ]
  },
  {
   "cell_type": "markdown",
   "id": "b40791e3-fd01-4e58-b5b5-517cc78848f0",
   "metadata": {},
   "source": [
    "## Test Case1"
   ]
  },
  {
   "cell_type": "code",
   "execution_count": 15,
   "id": "2c1de346-4528-453d-922e-826d6b8f28c1",
   "metadata": {},
   "outputs": [
    {
     "name": "stdout",
     "output_type": "stream",
     "text": [
      "흰색 :  11\n",
      "빨간색 :  11\n"
     ]
    }
   ],
   "source": [
    "N = 8\n",
    "territory = [[1,0,1,1,1,1,0,0],\n",
    "             [1,0,1,1,1,1,0,0],\n",
    "             [0,0,1,1,0,0,1,1],\n",
    "             [0,0,1,1,0,0,1,0],\n",
    "             [1,1,0,0,0,0,0,0],\n",
    "             [1,1,0,0,0,0,0,0],\n",
    "             [0,0,1,0,0,0,0,0],\n",
    "             [0,0,0,1,0,0,0,0]]\n",
    "\n",
    "white, red = 0, 0\n",
    "t_conquer(0,0,N)\n",
    "print(\"흰색 : \", white)\n",
    "print(\"빨간색 : \", red)"
   ]
  },
  {
   "cell_type": "markdown",
   "id": "95cb8e7d-160f-4a6c-97a4-3eedc065ea25",
   "metadata": {},
   "source": [
    "## Test Case2"
   ]
  },
  {
   "cell_type": "code",
   "execution_count": 16,
   "id": "1e7d636f-4517-4a14-a568-f60976dd7cd8",
   "metadata": {},
   "outputs": [
    {
     "name": "stdout",
     "output_type": "stream",
     "text": [
      "흰색 :  7\n",
      "빨간색 :  6\n"
     ]
    }
   ],
   "source": [
    "N = 4\n",
    "territory = [[0,0,1,1],\n",
    "             [1,1,1,1],\n",
    "             [1,0,0,0],\n",
    "             [0,0,1,1]]\n",
    "\n",
    "white, red = 0, 0\n",
    "t_conquer(0,0,N)\n",
    "print(\"흰색 : \", white)\n",
    "print(\"빨간색 : \", red)"
   ]
  },
  {
   "cell_type": "markdown",
   "id": "cb07577d-2496-475e-adea-f0f1dfe857b0",
   "metadata": {},
   "source": [
    "## Test Case3"
   ]
  },
  {
   "cell_type": "code",
   "execution_count": 17,
   "id": "b16eafdb-474f-42ad-b376-0ae58b032e41",
   "metadata": {},
   "outputs": [
    {
     "name": "stdout",
     "output_type": "stream",
     "text": [
      "흰색 :  20\n",
      "빨간색 :  20\n"
     ]
    }
   ],
   "source": [
    "N = 16\n",
    "territory = [[1,1,1,1,0,0,0,0,1,1,0,0,1,1,1,1],\n",
    "             [1,1,1,1,0,0,1,1,1,1,0,1,1,1,1,1],\n",
    "             [1,1,1,1,1,1,0,0,0,0,1,1,1,1,1,1],\n",
    "             [1,1,1,1,1,1,0,0,0,0,1,1,1,1,1,1],\n",
    "             [1,1,1,1,0,0,1,1,1,1,0,0,0,0,0,0],\n",
    "             [0,1,1,1,1,0,1,1,1,1,0,0,0,0,0,0],\n",
    "             [1,1,1,1,0,0,0,0,0,0,0,0,0,0,0,0],\n",
    "             [1,1,1,1,0,0,0,0,0,0,0,0,0,0,0,0],\n",
    "             [1,1,1,1,1,1,1,1,0,0,0,0,0,0,0,0],\n",
    "             [1,1,1,1,1,1,1,1,0,0,0,0,0,0,0,0],\n",
    "             [1,1,1,1,1,1,1,1,0,0,0,0,0,0,0,0],\n",
    "             [1,1,1,1,1,1,1,1,0,0,0,0,0,0,0,0],\n",
    "             [1,1,1,1,0,0,0,0,0,0,0,0,0,0,0,0],\n",
    "             [1,1,1,1,0,0,0,0,0,0,0,0,0,0,0,0],\n",
    "             [1,1,1,1,0,0,0,0,0,0,0,0,0,0,0,0],\n",
    "             [1,1,1,1,0,0,0,0,0,0,0,0,0,0,0,0]]\n",
    "\n",
    "white, red = 0, 0\n",
    "t_conquer(0,0,N)\n",
    "print(\"흰색 : \", white)\n",
    "print(\"빨간색 : \", red)"
   ]
  }
 ],
 "metadata": {
  "kernelspec": {
   "display_name": "Python 3 (ipykernel)",
   "language": "python",
   "name": "python3"
  },
  "language_info": {
   "codemirror_mode": {
    "name": "ipython",
    "version": 3
   },
   "file_extension": ".py",
   "mimetype": "text/x-python",
   "name": "python",
   "nbconvert_exporter": "python",
   "pygments_lexer": "ipython3",
   "version": "3.11.1"
  }
 },
 "nbformat": 4,
 "nbformat_minor": 5
}
