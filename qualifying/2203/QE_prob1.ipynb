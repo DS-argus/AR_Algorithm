{
 "cells": [
  {
   "cell_type": "markdown",
   "metadata": {},
   "source": [
    "(a) Write a function `palindrome(s)` that checks if the string is a palindrome."
   ]
  },
  {
   "cell_type": "code",
   "execution_count": 5,
   "metadata": {},
   "outputs": [],
   "source": [
    "def palindrome(s: str):\n",
    "    for i in range(len(s)//2+1):\n",
    "        if s[i] != s[len(s)-1-i]: return False\n",
    "    return True"
   ]
  },
  {
   "cell_type": "markdown",
   "metadata": {},
   "source": [
    "(b) Write a function `substring(s, t)` that checks if the string `t` is a substring of the string `s`."
   ]
  },
  {
   "cell_type": "code",
   "execution_count": 30,
   "metadata": {},
   "outputs": [],
   "source": [
    "def substring(s: str, t: str):\n",
    "    if len(s) >= len(t):\n",
    "        for i in range(len(s)-len(t)):\n",
    "            if s[i] == t[0]:\n",
    "                flag = True\n",
    "                for j in range(len(t)):\n",
    "                    if s[i+j] != t[j]:\n",
    "                        flag = False\n",
    "                        break\n",
    "\n",
    "                if flag:\n",
    "                    return True                \n",
    "\n",
    "    return False"
   ]
  },
  {
   "cell_type": "markdown",
   "metadata": {},
   "source": [
    "(c) Write the function `max_palindrome(s)` that uses `palindrome(s)` and `substring(s, t)`."
   ]
  },
  {
   "cell_type": "code",
   "execution_count": 35,
   "metadata": {},
   "outputs": [],
   "source": [
    "def max_palindrome(s: str) -> list:\n",
    "    result = []\n",
    "\n",
    "    for length in range(len(s), 0, -1):\n",
    "        l = 0\n",
    "        r = l + length\n",
    "        \n",
    "        while r<=len(s):\n",
    "            substr = s[l:r]\n",
    "            l += 1\n",
    "            r += 1\n",
    "            if palindrome(substr):\n",
    "                flag = True\n",
    "                for palinds in result:\n",
    "                    if substring(palinds, substr):\n",
    "                        flag = False\n",
    "                        break\n",
    "            \n",
    "                if flag:\n",
    "                    result.append(substr)\n",
    "\n",
    "    return result"
   ]
  },
  {
   "cell_type": "markdown",
   "metadata": {},
   "source": [
    "문제에서 나온 예시 답변\n",
    " \n",
    "\\* *두번째 예시 답이 잘 못 된 것 같아서 수정했는데 아니면 말씀주세요.*\n",
    "-> 원래가 맞는 듯?"
   ]
  },
  {
   "cell_type": "code",
   "execution_count": 36,
   "metadata": {},
   "outputs": [
    {
     "name": "stdout",
     "output_type": "stream",
     "text": [
      "---------- 1st Example ----------\n",
      "your solution  :  ['defgfed', 'abccba', 'dzd', 'k']\n",
      "given solution :  ['k', 'abccba', 'dzd', 'defgfed']\n",
      "---------- 2nd Example ----------\n",
      "your solution  :  ['zabccbaz', 'aza', 'k', ' ', 'd']\n",
      "given solution :  ['k', ' ', 'd', 'zabccbaz', 'aza']\n"
     ]
    }
   ],
   "source": [
    "print(\"---------- 1st Example ----------\")\n",
    "print(\"your solution  : \", max_palindrome(\"kabccbadzdefgfeda\"))\n",
    "print(\"given solution : \", [\"k\", \"abccba\", \"dzd\", \"defgfed\"])\n",
    "print(\"---------- 2nd Example ----------\")\n",
    "print(\"your solution  : \", max_palindrome(\"kabccba dzabccbaza\"))\n",
    "print(\"given solution : \", [\"k\", \" \", \"d\", \"zabccbaz\", \"aza\"])"
   ]
  },
  {
   "cell_type": "code",
   "execution_count": null,
   "metadata": {},
   "outputs": [],
   "source": []
  }
 ],
 "metadata": {
  "kernelspec": {
   "display_name": "Python 3",
   "language": "python",
   "name": "python3"
  },
  "language_info": {
   "codemirror_mode": {
    "name": "ipython",
    "version": 3
   },
   "file_extension": ".py",
   "mimetype": "text/x-python",
   "name": "python",
   "nbconvert_exporter": "python",
   "pygments_lexer": "ipython3",
   "version": "3.11.1"
  }
 },
 "nbformat": 4,
 "nbformat_minor": 2
}
