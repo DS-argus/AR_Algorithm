{
 "cells": [
  {
   "cell_type": "markdown",
   "metadata": {},
   "source": [
    "In this problem, given a connected undirected graph `G` and a node `s` in `G`, you will implement a function `level_partition(G, s)` \n",
    "\n",
    "that partitions the nodes in the breadth-first tree of `G` rooted at `s` according to their level in the tree. \n",
    "\n",
    "It returns the list of partitions, and the partitions in the list are sorted in an increasing order of the levels. For example, the following graph `G`"
   ]
  },
  {
   "cell_type": "code",
   "execution_count": 28,
   "metadata": {},
   "outputs": [],
   "source": [
    "class GNode:\n",
    "    def __init__(self, id, color=\"W\", d=0, p=None):\n",
    "        self.id = id # id is a string\n",
    "        self.color = color # color (status) of node\n",
    "        self.distance = d\n",
    "        self.parent = p\n",
    "    \n",
    "    def __str__(self):\n",
    "        return self.id"
   ]
  },
  {
   "cell_type": "code",
   "execution_count": 29,
   "metadata": {},
   "outputs": [],
   "source": [
    "r, s, t, u, v = GNode('r'), GNode('s'), GNode('t'), GNode('u'), GNode('v')\n",
    "w, x, y = GNode('w'), GNode('x'), GNode('y')\n",
    "G = dict()\n",
    "G[r], G[s], G[t], G[u], G[v] = [s, v], [w, r], [w, x, u], [t, x, y], [r]\n",
    "G[w], G[x], G[y] = [s, t, x], [w, t, u, y], [x, u] "
   ]
  },
  {
   "cell_type": "markdown",
   "metadata": {},
   "source": [
    "(a) Write a function `bfs(G, s)` that performs a breadth-first search (BFS) algorithm on a connected undirected graph G from the source node `s`."
   ]
  },
  {
   "cell_type": "code",
   "execution_count": 30,
   "metadata": {},
   "outputs": [],
   "source": [
    "def bfs(G: dict, s: \"GNode\"):\n",
    "\n",
    "    depth_dict = dict()\n",
    "    \n",
    "    q = list()\n",
    "    q.append(s)\n",
    "    V_list = [s.id]\n",
    "    while len(q) > 0 :\n",
    "        cnt = q[0]\n",
    "        q.remove(cnt)\n",
    "        \n",
    "        if cnt.distance not in depth_dict.keys():\n",
    "            depth_dict[cnt.distance] = [cnt.id]\n",
    "        else:      \n",
    "            depth_dict[cnt.distance].append(cnt.id)\n",
    "        \n",
    "        cnt.color = 'B'\n",
    "\n",
    "        for neighbor in G[cnt]:\n",
    "            # print(neighbor.id, V_list)\n",
    "            if neighbor.color == \"W\" and neighbor.id not in V_list:\n",
    "                neighbor.distance = cnt.distance+1\n",
    "                q.append(neighbor)\n",
    "                V_list.append(neighbor.id)\n",
    "\n",
    "    return depth_dict\n",
    "\n",
    "def level_partition(G,s):\n",
    "    return list(bfs(G, s).values())"
   ]
  },
  {
   "cell_type": "markdown",
   "metadata": {},
   "source": [
    "(b) Write the function `level_partition(G, s)` that uses `bfs(G, s)`."
   ]
  },
  {
   "cell_type": "code",
   "execution_count": 31,
   "metadata": {},
   "outputs": [
    {
     "ename": "KeyError",
     "evalue": "<__main__.GNode object at 0x1084b3190>",
     "output_type": "error",
     "traceback": [
      "\u001b[0;31m---------------------------------------------------------------------------\u001b[0m",
      "\u001b[0;31mKeyError\u001b[0m                                  Traceback (most recent call last)",
      "Cell \u001b[0;32mIn[31], line 1\u001b[0m\n\u001b[0;32m----> 1\u001b[0m \u001b[43mbfs\u001b[49m\u001b[43m(\u001b[49m\u001b[43mG\u001b[49m\u001b[43m,\u001b[49m\u001b[43m \u001b[49m\u001b[43ms\u001b[49m\u001b[43m)\u001b[49m\n\u001b[1;32m      3\u001b[0m \u001b[38;5;66;03m# print(s.distance)\u001b[39;00m\n\u001b[1;32m      4\u001b[0m \u001b[38;5;66;03m# print(r.distance, w.distance)\u001b[39;00m\n\u001b[1;32m      5\u001b[0m \u001b[38;5;66;03m# print(v.distance, t.distance, x.distance)\u001b[39;00m\n\u001b[1;32m      6\u001b[0m \u001b[38;5;66;03m# print(u.distance, y.distance)\u001b[39;00m\n\u001b[1;32m      8\u001b[0m \u001b[38;5;28mprint\u001b[39m(level_partition(G, s))\n",
      "Cell \u001b[0;32mIn[30], line 19\u001b[0m, in \u001b[0;36mbfs\u001b[0;34m(G, s)\u001b[0m\n\u001b[1;32m     15\u001b[0m     depth_dict[cnt\u001b[38;5;241m.\u001b[39mdistance]\u001b[38;5;241m.\u001b[39mappend(cnt\u001b[38;5;241m.\u001b[39mid)\n\u001b[1;32m     17\u001b[0m cnt\u001b[38;5;241m.\u001b[39mcolor \u001b[38;5;241m=\u001b[39m \u001b[38;5;124m'\u001b[39m\u001b[38;5;124mB\u001b[39m\u001b[38;5;124m'\u001b[39m\n\u001b[0;32m---> 19\u001b[0m \u001b[38;5;28;01mfor\u001b[39;00m neighbor \u001b[38;5;129;01min\u001b[39;00m \u001b[43mG\u001b[49m\u001b[43m[\u001b[49m\u001b[43mcnt\u001b[49m\u001b[43m]\u001b[49m:\n\u001b[1;32m     20\u001b[0m     \u001b[38;5;66;03m# print(neighbor.id, V_list)\u001b[39;00m\n\u001b[1;32m     21\u001b[0m     \u001b[38;5;28;01mif\u001b[39;00m neighbor\u001b[38;5;241m.\u001b[39mcolor \u001b[38;5;241m==\u001b[39m \u001b[38;5;124m\"\u001b[39m\u001b[38;5;124mW\u001b[39m\u001b[38;5;124m\"\u001b[39m \u001b[38;5;129;01mand\u001b[39;00m neighbor\u001b[38;5;241m.\u001b[39mid \u001b[38;5;129;01mnot\u001b[39;00m \u001b[38;5;129;01min\u001b[39;00m V_list:\n\u001b[1;32m     22\u001b[0m         neighbor\u001b[38;5;241m.\u001b[39mdistance \u001b[38;5;241m=\u001b[39m cnt\u001b[38;5;241m.\u001b[39mdistance\u001b[38;5;241m+\u001b[39m\u001b[38;5;241m1\u001b[39m\n",
      "\u001b[0;31mKeyError\u001b[0m: <__main__.GNode object at 0x1084b3190>"
     ]
    }
   ],
   "source": [
    "bfs(G, s)\n",
    "\n",
    "# print(s.distance)\n",
    "# print(r.distance, w.distance)\n",
    "# print(v.distance, t.distance, x.distance)\n",
    "# print(u.distance, y.distance)\n",
    "\n",
    "print(level_partition(G, s))\n",
    "# print(s.distance)\n",
    "# print(r.distance, w.distance)\n",
    "# print(v.distance, t.distance, x.distance)\n",
    "# print(u.distance, y.distance)"
   ]
  },
  {
   "cell_type": "code",
   "execution_count": null,
   "metadata": {},
   "outputs": [],
   "source": []
  },
  {
   "cell_type": "code",
   "execution_count": null,
   "metadata": {},
   "outputs": [],
   "source": []
  }
 ],
 "metadata": {
  "kernelspec": {
   "display_name": "Python 3",
   "language": "python",
   "name": "python3"
  },
  "language_info": {
   "codemirror_mode": {
    "name": "ipython",
    "version": 3
   },
   "file_extension": ".py",
   "mimetype": "text/x-python",
   "name": "python",
   "nbconvert_exporter": "python",
   "pygments_lexer": "ipython3",
   "version": "3.11.1"
  }
 },
 "nbformat": 4,
 "nbformat_minor": 2
}
